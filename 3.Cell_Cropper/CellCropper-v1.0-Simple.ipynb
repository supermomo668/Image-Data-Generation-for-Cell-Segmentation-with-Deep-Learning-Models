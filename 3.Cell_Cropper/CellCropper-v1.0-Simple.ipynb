{
 "cells": [
  {
   "cell_type": "code",
   "execution_count": 3,
   "metadata": {},
   "outputs": [],
   "source": [
    "import numpy as np, cv2, matplotlib.pyplot as plt, os.path"
   ]
  },
  {
   "cell_type": "code",
   "execution_count": 4,
   "metadata": {},
   "outputs": [
    {
     "name": "stdout",
     "output_type": "stream",
     "text": [
      "shape (2048, 2048, 3)\n"
     ]
    }
   ],
   "source": [
    "img = cv2.imread(\"../../Images_Data/AV81_DAPI.tif\"); print(\"shape\", img.shape)\n",
    "img = cv2.normalize(img, img, 0, 255, cv2.NORM_MINMAX)"
   ]
  },
  {
   "cell_type": "code",
   "execution_count": 5,
   "metadata": {},
   "outputs": [],
   "source": [
    "clone = img.copy(); show_clone = clone.copy()\n",
    "all_segments = []\n",
    "this_crop = np.empty((0,2),dtype = int)\n",
    "new_crop = True\n",
    "cropping = False\n",
    "accept = False\n",
    "crop_num = 0 \n",
    "reset = False\n",
    "boundary_mode = True\n",
    "continuous_mode = False\n",
    "erase_mode = False"
   ]
  },
  {
   "cell_type": "code",
   "execution_count": 6,
   "metadata": {},
   "outputs": [],
   "source": [
    "def cell_crop(event, x, y, flags, param):\n",
    "    global clone, show_clone, crop_num, all_segments, new_crop, cropping, this_crop, last_img, cropping, accept, reset, contour\n",
    "    global boundary_mode, continuous_mode\n",
    "    \n",
    "    if not cropping and accept:\n",
    "        if not boundary_mode:\n",
    "            clone = cv2.drawContours(clone, [all_segments[-1]], -1, (150, 255,0), -1, cv2.LINE_AA)\n",
    "        else:\n",
    "            clone = cv2.drawContours(clone, [all_segments[-1]], -1, (150, 255,150), 2, cv2.LINE_AA)\n",
    "        print(\"Segment accepted\")\n",
    "        cv2.imshow(\"image\", clone)\n",
    "        last_img = clone.copy()\n",
    "        show_clone = clone.copy()\n",
    "        accept = False\n",
    "        \n",
    "    elif event == cv2.EVENT_LBUTTONDOWN:    \n",
    "        if not cropping and new_crop == True:\n",
    "            last_img = clone.copy();\n",
    "            this_crop = np.empty((0,2),dtype = int)\n",
    "            crop_num += 1; print('Crop', crop_num)\n",
    "            new_crop = False\n",
    "            cropping = True\n",
    "            accept = False       \n",
    "            \n",
    "        this_crop = np.append(this_crop, np.array([[x, y]]), axis = 0)\n",
    "        clone = show_clone\n",
    "        cv2.imshow(\"image\", clone)\n",
    "        \n",
    "    elif event == cv2.EVENT_MOUSEMOVE:\n",
    "        if cropping and not new_crop:\n",
    "            show_clone = clone.copy()\n",
    "            last_coord = this_crop[-1]\n",
    "            cv2.line(show_clone,(x,y),tuple(last_coord),(0,0,255),4) # draw line between former and present pixel\n",
    "            cv2.imshow(\"image\", show_clone)\n"
   ]
  },
  {
   "cell_type": "code",
   "execution_count": 7,
   "metadata": {
    "scrolled": true
   },
   "outputs": [
    {
     "name": "stdout",
     "output_type": "stream",
     "text": [
      "Crop 1\n",
      "Crop 1\n"
     ]
    }
   ],
   "source": [
    "cv2.namedWindow(\"image\", cv2.WINDOW_NORMAL|cv2.WND_PROP_ASPECT_RATIO); cv2.setMouseCallback(\"image\", cell_crop)\n",
    "cv2.imshow(\"image\", clone)\n",
    "# keep looping until the 'q' key is pressed\n",
    "while True:\n",
    "    # display the image and wait for a keypress\n",
    "    key = cv2.waitKey() #1) & 0xFF\n",
    "    if key == ord(\"r\"):\n",
    "        if not cropping:\n",
    "            continue\n",
    "        else:\n",
    "            clone = last_img\n",
    "            show_clone = last_img\n",
    "            new_crop = True\n",
    "            cropping = False\n",
    "            started = False\n",
    "            crop_num -= 1\n",
    "            \n",
    "    elif key == ord(\"a\"):  # accept\n",
    "        all_segments.append(this_crop)\n",
    "        show_clone = clone.copy\n",
    "        new_crop = True\n",
    "        cropping = False\n",
    "        accept = True\n",
    "        \n",
    "    elif key == ord(\"s\") and not cropping:   # save\n",
    "        if not os.path.isdir(\"Output\"):\n",
    "            os.makedirs(\"Output\")\n",
    "        if len(all_segments) != 0:\n",
    "            fid = 0\n",
    "            file_name = \"\\Output\\Output_CropCoordinates_\"+str(fid)\n",
    "            file_path = os.getcwd()+file_name\n",
    "            while os.path.exists(file_path+'.csv'):\n",
    "                fid += 1\n",
    "                file_path = file_path[:-1] + str(fid)\n",
    "            \n",
    "            with open(file_path+'.csv', 'w', newline = '') as f_out:\n",
    "                for seg in all_segments:\n",
    "                    for i in range(len(seg)):\n",
    "                        f_out.write(str(seg[i][0])+','+str(seg[i][1])+'\\t')\n",
    "                    f_out.write('\\n')\n",
    "            contour_mask = (clone[:,:,1]==255).astype('uint8')*255\n",
    "            cv2.imwrite(os.getcwd()+\"\\Output\\Output_Mask_\"+str(fid)+\".png\", contour_mask)\n",
    "            #m2, contours, hierarchy = cv2.findContours(contour_mask, cv2.RETR_TREE, cv2.CHAIN_APPROX_NONE)\n",
    "            #rint(im2.shape)\n",
    "            #v2.imwrite(os.getcwd()+\"\\Output\\Output_boundary_\"+str(fid)+\".png\", im2)\n",
    "            #np.savetxt('bounds.csv',contours,fmt='%s')\n",
    "            print(\"Coordinates are saved to:\", file_name+'.csv')\n",
    "            print(\"Mask is saved to\", os.getcwd()+\"\\Output\\Output_Mask_\"+str(fid))\n",
    "        else:\n",
    "            print(\"File not saved\")\n",
    "            \n",
    "    elif key == ord(\"b\"):\n",
    "        if boundary_mode:\n",
    "            boundary_mode = False\n",
    "        else:\n",
    "            boundary_mode = True\n",
    "    \n",
    "                        \n",
    "    elif key == 27 or key == ord(\"q\"):  # Quit\n",
    "        new_crop = True\n",
    "        cropping = False\n",
    "        accept = True\n",
    "        break\n",
    "    \n",
    "    cv2.imshow(\"image\", clone)\n",
    "cv2.destroyAllWindows()"
   ]
  },
  {
   "cell_type": "markdown",
   "metadata": {},
   "source": [
    "Create Mask"
   ]
  },
  {
   "cell_type": "code",
   "execution_count": 16,
   "metadata": {
    "scrolled": true
   },
   "outputs": [
    {
     "name": "stdout",
     "output_type": "stream",
     "text": [
      "1098 759\n",
      "1097 784\n",
      "1113 788\n",
      "1126 771\n",
      "1120 763\n",
      "1111 759\n",
      "1332 695\n",
      "1338 710\n",
      "1349 711\n",
      "1355 711\n",
      "1360 705\n",
      "1356 701\n",
      "1358 691\n",
      "1355 684\n",
      "1345 681\n",
      "1336 689\n"
     ]
    }
   ],
   "source": [
    "with open(\"../Cell_CropnSegmentation/Output/Output_CropCoordinates_0.csv\") as f:\n",
    "    line = f.readline()\n",
    "    while line:\n",
    "        line = f.readline()\n",
    "        arr = line.split('\\t')[:-1]\n",
    "        for coord in arr:\n",
    "            x, y = map(int,(coord.split(',')))\n",
    "            print(x, y)"
   ]
  },
  {
   "cell_type": "markdown",
   "metadata": {},
   "source": [
    "<b> Other Functions"
   ]
  },
  {
   "cell_type": "code",
   "execution_count": 7,
   "metadata": {},
   "outputs": [],
   "source": [
    "def CircleErase_Kernel(center=(0,0), r = 4):\n",
    "    for i in range(center[0]-r, center[0]+r):\n",
    "        for j in range(center[1]-r, center[1] + r):\n",
    "            if (center[0] - i) ** 2 + (center[1] - j) ** 2 <= r**2:\n",
    "                if img[i][j][:,:,1] == 255:\n",
    "                    img[i][j][:,:,1] == np.average([img[i][j][:,:,0],img[i][j][:,:,2]])\n",
    "                    \n",
    "def CircleErase_Kernel2(radius):\n",
    "    kernel = np.ones((3,3),np.float32) *(-1)\n",
    "    kernel[1,1] = 8\n",
    "    print(kernel)\n",
    "    dst = cv2.filter2D(img,-1,kernel)"
   ]
  },
  {
   "cell_type": "markdown",
   "metadata": {},
   "source": [
    "### Example"
   ]
  },
  {
   "cell_type": "code",
   "execution_count": 42,
   "metadata": {},
   "outputs": [],
   "source": [
    "pts = np.array([[35,10], [750,1000],[231,131]])\n",
    "\n",
    "## (1) Crop the bounding rect\n",
    "rect = cv2.boundingRect(pts)\n",
    "x,y,w,h = rect\n",
    "croped = img.copy()\n",
    "\n",
    "## (2) make mask\n",
    "#pts = pts - pts.min(axis=0)\n",
    "\n",
    "mask = np.zeros(croped.shape[:2], np.uint8)\n",
    "cv2.drawContours(mask, [pts], -1, (255, 255, 255), -1, cv2.LINE_AA)\n",
    "\n",
    "## (3) do bit-op\n",
    "dst = cv2.bitwise_and(croped, croped, mask=mask)\n",
    "\n",
    "## (4) add the white background\n",
    "bg = np.ones_like(croped, np.uint8)*255\n",
    "cv2.bitwise_not(bg,bg, mask=mask)\n",
    "dst2 = bg+ dst"
   ]
  },
  {
   "cell_type": "code",
   "execution_count": 102,
   "metadata": {},
   "outputs": [
    {
     "data": {
      "image/png": "[encoded data removed]",
      "text/plain": [
       "<Figure size 1080x360 with 4 Axes>"
      ]
     },
     "metadata": {
      "needs_background": "light"
     },
     "output_type": "display_data"
    }
   ],
   "source": [
    "fig, ax = plt.subplots(1,4, figsize=(15,5)); axes = ax.ravel()\n",
    "images = [croped, mask, dst, bg]\n",
    "for i, ax in enumerate(axes):\n",
    "    ax.imshow(images[i])"
   ]
  },
  {
   "cell_type": "code",
   "execution_count": null,
   "metadata": {},
   "outputs": [],
   "source": [
    "cv2.imwrite(\"croped.png\", croped)\n",
    "cv2.imwrite(\"mask.png\", mask)\n",
    "cv2.imwrite(\"dst.png\", dst)\n",
    "cv2.imwrite(\"dst2.png\", dst2)"
   ]
  }
 ],
 "metadata": {
  "kernelspec": {
   "display_name": "Python 3",
   "language": "python",
   "name": "python3"
  },
  "language_info": {
   "codemirror_mode": {
    "name": "ipython",
    "version": 3
   },
   "file_extension": ".py",
   "mimetype": "text/x-python",
   "name": "python",
   "nbconvert_exporter": "python",
   "pygments_lexer": "ipython3",
   "version": "3.7.3"
  }
 },
 "nbformat": 4,
 "nbformat_minor": 2
}
