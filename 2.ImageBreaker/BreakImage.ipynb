{
 "cells": [
  {
   "cell_type": "code",
   "execution_count": 8,
   "metadata": {},
   "outputs": [],
   "source": [
    "import numpy as np, os, skimage.io, skimage.exposure, argparse, pathlib"
   ]
  },
  {
   "cell_type": "code",
   "execution_count": 10,
   "metadata": {
    "scrolled": false
   },
   "outputs": [],
   "source": [
    "def break_1toN(file_path, break_x=2, break_y=2):  # break 1 image to 4\n",
    "\timg_name = file_path.name\n",
    "\tim = skimage.io.imread(file_path)\n",
    "\tim = skimage.exposure.rescale_intensity(im)\n",
    "\tw, h = im.shape\n",
    "\tprint(\"Original shape\", w, h)\n",
    "\tdx = w//break_x\n",
    "\tdy = h//break_y\n",
    "\t[skimage.io.imsave(img_name+\"piece_x\"+str(x)+'_y'+str(y), \n",
    "\t\tim[x:x+dx,y:y+dy]) for x in range(0,w, dx) \n",
    "\t\tfor y in range(0,h,dy)]\n",
    "\n",
    "def break_1to_xy(file_path, target_x = 128, target_y = 128, out_dir = pathlib.Path(\"tiles_output/\")):\n",
    "    if file_path.is_file():\n",
    "        img_name = file_path.stem\n",
    "        im = skimage.io.imread(file_path)\n",
    "        im = skimage.exposure.rescale_intensity(im)\n",
    "        w, h = im.shape\n",
    "        if w< target_x or h<target_y:\n",
    "            raise Exception(\"This is not possible, target dimension below that of the original image.\")\n",
    "        num_x = w//target_x; start_x = (w%target_x)//2  # Left over room divided by 2 (centered)\n",
    "        num_y = h//target_y; start_y = (h%target_y)//2\n",
    "        if not out_dir.exists():\n",
    "            os.mkdir(out_dir)\n",
    "        [skimage.io.imsave(out_dir/ (img_name + \"piece_x\" + str(n) + \"_y\" + str(m)+\".png\"), \n",
    "                           im[start_x+target_x*n:start_x+target_x*(n+1), start_y+target_y*m:start_y+target_y*(m+1)], check_contrast=0)\n",
    "                           for n in range(num_x) for m in range(num_y)]\n",
    "    elif file_path.is_dir():\n",
    "        for file in os.listdir(file_path):\n",
    "            if file.endswith('.tif') or file.endswith('.png'):\n",
    "                break_1to_xy(file_path/file, target_x, target_y, out_dir)                "
   ]
  },
  {
   "cell_type": "raw",
   "metadata": {},
   "source": [
    "dest_dir = pathlib.Path(\"../Images/Nucleii Images\")\n",
    "for filename in os.listdir(dest_dir):\n",
    "\tprint(filename)\n",
    "    \n",
    "image_name = \"AV81_DAPI.tif\"\n",
    "file_path = dest_dir/image_name\n",
    "break_1to_xy(file_path, target_x=500, target_y=500)"
   ]
  },
  {
   "cell_type": "code",
   "execution_count": 12,
   "metadata": {},
   "outputs": [
    {
     "name": "stderr",
     "output_type": "stream",
     "text": [
      "usage: ipykernel_launcher.py [-h] -img IMG -x X -y Y\n",
      "ipykernel_launcher.py: error: the following arguments are required: -img, -x, -y\n"
     ]
    },
    {
     "ename": "SystemExit",
     "evalue": "2",
     "output_type": "error",
     "traceback": [
      "An exception has occurred, use %tb to see the full traceback.\n",
      "\u001b[1;31mSystemExit\u001b[0m\u001b[1;31m:\u001b[0m 2\n"
     ]
    },
    {
     "name": "stderr",
     "output_type": "stream",
     "text": [
      "C:\\Users\\Mo\\AppData\\Roaming\\Python\\Python37\\site-packages\\IPython\\core\\interactiveshell.py:3334: UserWarning: To exit: use 'exit', 'quit', or Ctrl-D.\n",
      "  warn(\"To exit: use 'exit', 'quit', or Ctrl-D.\", stacklevel=1)\n"
     ]
    }
   ],
   "source": [
    "if __name__ == \"__main__\":\n",
    "    ap = argparse.ArgumentParser()\n",
    "    #ap.add_help(\"Break images into tiles\")\n",
    "    ap.add_argument('-img', help='image directory or name', required =True)\n",
    "    ap.add_argument('-x',help='target x-dimension or (in num_mode) breaks in x wanted', required=True, type=int)\n",
    "    ap.add_argument('-y', help='target y-dimension or (in num_mode) breaks in y wanted', required=True, type=int)\n",
    "    #ap.add_argument('--num_mode', help='use number of breaks as input to -x and -y', type=bool)\n",
    "    args = ap.parse_args()\n",
    "\n",
    "    if args.num_mode:\n",
    "        break_1toN(pathlib.Path(args.img), break_x = args.x, break_y = args.y)\n",
    "    else:\n",
    "        break_1to_xy(pathlib.Path(args.img), target_x = args.x, target_y = args.y)"
   ]
  },
  {
   "cell_type": "code",
   "execution_count": null,
   "metadata": {},
   "outputs": [],
   "source": []
  }
 ],
 "metadata": {
  "kernelspec": {
   "display_name": "Python 3",
   "language": "python",
   "name": "python3"
  },
  "language_info": {
   "codemirror_mode": {
    "name": "ipython",
    "version": 3
   },
   "file_extension": ".py",
   "mimetype": "text/x-python",
   "name": "python",
   "nbconvert_exporter": "python",
   "pygments_lexer": "ipython3",
   "version": "3.7.3"
  }
 },
 "nbformat": 4,
 "nbformat_minor": 2
}
